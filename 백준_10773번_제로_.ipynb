{
  "nbformat": 4,
  "nbformat_minor": 0,
  "metadata": {
    "colab": {
      "name": "백준_10773번_제로 .ipynb",
      "provenance": [],
      "collapsed_sections": [],
      "authorship_tag": "ABX9TyN69MJsOhzNZAPBruHC7ErG",
      "include_colab_link": true
    },
    "kernelspec": {
      "name": "python3",
      "display_name": "Python 3"
    },
    "language_info": {
      "name": "python"
    }
  },
  "cells": [
    {
      "cell_type": "markdown",
      "metadata": {
        "id": "view-in-github",
        "colab_type": "text"
      },
      "source": [
        "<a href=\"https://colab.research.google.com/github/pterons/CodingTestExercise/blob/main/%EB%B0%B1%EC%A4%80_10773%EB%B2%88_%EC%A0%9C%EB%A1%9C_.ipynb\" target=\"_parent\"><img src=\"https://colab.research.google.com/assets/colab-badge.svg\" alt=\"Open In Colab\"/></a>"
      ]
    },
    {
      "cell_type": "code",
      "metadata": {
        "id": "eyiLmVe1wmEO",
        "colab": {
          "base_uri": "https://localhost:8080/"
        },
        "outputId": "ff40a4f0-1e99-4224-81bf-9d0700143eee"
      },
      "source": [
        "k = []\n",
        "start = int(input())\n",
        "for x in range(0, start):\n",
        "  insert = int(input())\n",
        "  if insert\n",
        "   == 0:\n",
        "    k.pop()\n",
        "  else:\n",
        "    k.append(insert)\n",
        "print(sum(k))"
      ],
      "execution_count": null,
      "outputs": [
        {
          "output_type": "stream",
          "text": [
            "10\n",
            "1\n",
            "3\n",
            "5\n",
            "4\n",
            "0\n",
            "0\n",
            "7\n",
            "0\n",
            "0\n",
            "6\n",
            "최종결과: 7\n"
          ],
          "name": "stdout"
        }
      ]
    }
  ]
}