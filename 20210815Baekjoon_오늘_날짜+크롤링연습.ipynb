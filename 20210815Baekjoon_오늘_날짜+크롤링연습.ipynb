{
  "nbformat": 4,
  "nbformat_minor": 0,
  "metadata": {
    "colab": {
      "name": "20210815Baekjoon_오늘 날짜+크롤링연습.ipynb",
      "provenance": [],
      "collapsed_sections": [],
      "mount_file_id": "13bsIPRbROSvsrDkGr43XhbHfAA51ttn0",
      "authorship_tag": "ABX9TyNFO5WF71F+Ezgw9BiBhiHs",
      "include_colab_link": true
    },
    "kernelspec": {
      "name": "python3",
      "display_name": "Python 3"
    },
    "language_info": {
      "name": "python"
    }
  },
  "cells": [
    {
      "cell_type": "markdown",
      "metadata": {
        "id": "view-in-github",
        "colab_type": "text"
      },
      "source": [
        "<a href=\"https://colab.research.google.com/github/pterons/CodingTestExercise/blob/main/20210815Baekjoon_%EC%98%A4%EB%8A%98_%EB%82%A0%EC%A7%9C%2B%ED%81%AC%EB%A1%A4%EB%A7%81%EC%97%B0%EC%8A%B5.ipynb\" target=\"_parent\"><img src=\"https://colab.research.google.com/assets/colab-badge.svg\" alt=\"Open In Colab\"/></a>"
      ]
    },
    {
      "cell_type": "markdown",
      "metadata": {
        "id": "-tGxqvr6US43"
      },
      "source": [
        "#문제\n",
        "\\>>> 서울의 오늘 날짜를 출력하는 프로그램을 작성하시오.\n",
        "<br/><br/>\n",
        "#입력\n",
        "\\>>> 입력은 없다.\n",
        "<br/><br/>\n",
        "#출력\n",
        "\\>>> 서울의 오늘 날짜를 \"YYYY-MM-DD\" 형식으로 출력한다.\n",
        "<hr>\n",
        "\n",
        "## 예제 입력 1\n",
        "입력 없음.\n",
        "\n",
        "## 예제 출력 1\n",
        "\\>>> 2015-01-24\n",
        "<hr/>\n",
        "\n",
        "## 힌트\n",
        "채점 서버는 시간대(Timezone)는 UTC+0 이다.\n",
        "\n",
        "다음은 채점 서버에서 KST 시간으로 2018년 3월 21일 오후 2시 7분 38초에 date 명령어를 실행시킨 결과이다.\n",
        "\n",
        "\\>>> Wed Mar 21 05:07:38 UTC 2018\n",
        "\n",
        "# 출저\n",
        "문제를 만든 사람: baekjoon<br/>\n",
        "https://www.acmicpc.net/problem/10699\n"
      ]
    },
    {
      "cell_type": "code",
      "metadata": {
        "colab": {
          "base_uri": "https://localhost:8080/"
        },
        "id": "DeMxqKJIZthJ",
        "outputId": "a184b4ee-845b-4bee-8383-8d9ab461cfe0"
      },
      "source": [
        "# 라이브러리 임포트\n",
        "import datetime as dt\n",
        "\n",
        "# 변수에 날짜 메서드 담기\n",
        "x = dt.datetime.now()\n",
        "\n",
        "# 출력\n",
        "print(x.year,\"-\",x.month,\"-\",x.day, sep='')\n"
      ],
      "execution_count": 25,
      "outputs": [
        {
          "output_type": "stream",
          "text": [
            "2021-8-15\n"
          ],
          "name": "stdout"
        }
      ]
    },
    {
      "cell_type": "markdown",
      "metadata": {
        "id": "lJp7dZtUaxIq"
      },
      "source": [
        "## 요일을 출력해보자\n",
        "weekday: 요일 반환 (0:월, 1:화, 2:수, 3:목, 4:금, 5:토, 6:일)"
      ]
    },
    {
      "cell_type": "code",
      "metadata": {
        "colab": {
          "base_uri": "https://localhost:8080/"
        },
        "id": "UM_dzHcMaoUW",
        "outputId": "9270f43b-9e0b-4ccb-ef46-c5920c8cada0"
      },
      "source": [
        "# 요일 출력해보기\n",
        "print(x.weekday())"
      ],
      "execution_count": 29,
      "outputs": [
        {
          "output_type": "stream",
          "text": [
            "6\n"
          ],
          "name": "stdout"
        }
      ]
    },
    {
      "cell_type": "markdown",
      "metadata": {
        "id": "_3deFf10a8gI"
      },
      "source": [
        "## 다른 방식으로 날짜, 시간 그리고 요일을 출력해보자\n",
        "%Y : 앞의 빈자리를 0으로 채우는 4자리 연도 숫자\n",
        "\n",
        "%m : 앞의 빈자리를 0으로 채우는 2자리 월 숫자\n",
        "\n",
        "%d : 앞의 빈자리를 0으로 채우는 2자리 일 숫자\n",
        "\n",
        "%H : 앞의 빈자리를 0으로 채우는 24시간 형식 2자리 시간 숫자\n",
        "\n",
        "%M : 앞의 빈자리를 0으로 채우는 2자리 분 숫자\n",
        "\n",
        "%S : 앞의 빈자리를 0으로 채우는 2자리 초 숫자\n",
        "\n",
        "%A : 영어로 된 요일 문자열\n",
        "\n",
        "%B : 영어로 된 월 문자열"
      ]
    },
    {
      "cell_type": "code",
      "metadata": {
        "colab": {
          "base_uri": "https://localhost:8080/",
          "height": 35
        },
        "id": "MENQ9-6SbBI5",
        "outputId": "6a036387-d50e-43bd-9eb9-6d747a064009"
      },
      "source": [
        "x.strftime(\"%A %d. %B %Y\")"
      ],
      "execution_count": 30,
      "outputs": [
        {
          "output_type": "execute_result",
          "data": {
            "application/vnd.google.colaboratory.intrinsic+json": {
              "type": "string"
            },
            "text/plain": [
              "'Sunday 15. August 2021'"
            ]
          },
          "metadata": {
            "tags": []
          },
          "execution_count": 30
        }
      ]
    },
    {
      "cell_type": "code",
      "metadata": {
        "colab": {
          "base_uri": "https://localhost:8080/"
        },
        "id": "UkGF6l_KbeDS",
        "outputId": "3d609319-820b-42d6-9448-88eb75b13624"
      },
      "source": [
        "print(x.strftime(\"%H시 %M분 %S초\"))"
      ],
      "execution_count": 31,
      "outputs": [
        {
          "output_type": "stream",
          "text": [
            "15시 24분 23초\n"
          ],
          "name": "stdout"
        }
      ]
    },
    {
      "cell_type": "code",
      "metadata": {
        "colab": {
          "base_uri": "https://localhost:8080/"
        },
        "id": "wGM1S-9NbgoZ",
        "outputId": "48ed48ec-911d-43a4-e543-2b4c079c4da9"
      },
      "source": [
        "dt.datetime.strptime(\"2017-01-02 14:44\", \"%Y-%m-%d %H:%M\")"
      ],
      "execution_count": 32,
      "outputs": [
        {
          "output_type": "execute_result",
          "data": {
            "text/plain": [
              "datetime.datetime(2017, 1, 2, 14, 44)"
            ]
          },
          "metadata": {
            "tags": []
          },
          "execution_count": 32
        }
      ]
    },
    {
      "cell_type": "markdown",
      "metadata": {
        "id": "oq41dPGybB2_"
      },
      "source": [
        "## 날씨 홈페이지를 통한 크롤링 연습"
      ]
    },
    {
      "cell_type": "code",
      "metadata": {
        "id": "9RpshwZSTdjX"
      },
      "source": [
        "# 라이브러리 임포트\n",
        "import requests\n",
        "from bs4 import BeautifulSoup\n",
        "import pandas as pd\n",
        "import matplotlib as mpl\n",
        "import matplotlib.pyplot as plt"
      ],
      "execution_count": null,
      "outputs": []
    },
    {
      "cell_type": "code",
      "metadata": {
        "colab": {
          "base_uri": "https://localhost:8080/"
        },
        "id": "V3ZvYfLxVW2e",
        "outputId": "ff0dd4cf-2a22-4bf9-8e38-99eb924b05e7"
      },
      "source": [
        "# 해당 브라우저 페이지 접근\n",
        "source = requests.get('https://www.weather.go.kr/weather/observation/currentweather.jsp')\n",
        "soup = BeautifulSoup(source.content, \"html.parser\")\n",
        "\n",
        "# 요소태그의 class로 접근\n",
        "table = soup.find('table', {'class':'table_develop3'})\n",
        "data = []\n",
        "\n",
        "print(\"#\"*30)\n",
        "print(\"\\nHello! Here's today's weather!\\n\")\n",
        "print(\"#\"*30)\n",
        "\n",
        "for tr in table.find_all('tr'):\n",
        "  tds = list(tr.find_all('td'))\n",
        "  for td in tds:\n",
        "    if td.find('a'):\n",
        "      point = td.find('a').text\n",
        "      temp = tds[5].text\n",
        "      humidity = tds[9].text\n",
        "      print(\"{0:<7} {1:<7} {2:>7}\".format(point, temp, humidity))\n",
        "      data.append([point, temp, humidity])\n",
        "\n",
        "print(\"#\"*30)\n",
        "print(\"\\nIt ends here. thanks!\\n\")\n",
        "print(\"#\"*30)"
      ],
      "execution_count": null,
      "outputs": [
        {
          "output_type": "stream",
          "text": [
            "##############################\n",
            "\n",
            "Hello! Here's today's weather!\n",
            "\n",
            "##############################\n",
            "강릉      21.9         84\n",
            "강진군     25.1         78\n",
            "강화      24.4         69\n",
            "거제      23.4         84\n",
            "거창      22.0         90\n",
            "경주시     21.4         95\n",
            "고산      23.4         95\n",
            "고창      23.4         93\n",
            "고창군     23.6         89\n",
            "고흥      24.8         73\n",
            "광양시     23.8         80\n",
            "광주      23.1         99\n",
            "구미      21.8         96\n",
            "군산      24.4         85\n",
            "금산      23.5         79\n",
            "김해시     22.4         82\n",
            "남원      23.7         78\n",
            "남해      23.9         82\n",
            "대관령     16.7         97\n",
            "대구      22.5         76\n",
            "대전      24.4         82\n",
            "동두천     22.9         78\n",
            "동해      21.8         85\n",
            "목포      25.6         77\n",
            "문경      22.2         85\n",
            "밀양      22.4         88\n",
            "백령도     22.2         78\n",
            "보령      24.5         76\n",
            "보성군     24.5         82\n",
            "보은      22.0         86\n",
            "봉화      18.2         90\n",
            "부산      23.2         79\n",
            "부안      23.5         97\n",
            "부여      24.2         78\n",
            "북강릉     20.4         89\n",
            "북창원     23.5         90\n",
            "북춘천     21.1         83\n",
            "산청      21.7         97\n",
            "상주      23.0         86\n",
            "서귀포     23.4         87\n",
            "서산      22.7         83\n",
            "서울      25.7         63\n",
            "성산      25.2         83\n",
            "세종      24.0         70\n",
            "속초      20.9         84\n",
            "수원      26.1         75\n",
            "순창군     25.0         83\n",
            "순천      23.5         79\n",
            "안동      22.3         76\n",
            "양산시     23.4         83\n",
            "양평      23.5         77\n",
            "여수      25.0         75\n",
            "영광군     23.1         95\n",
            "영덕      21.2         88\n",
            "영월      20.8         79\n",
            "영주      20.9        100\n",
            "영천      21.2         93\n",
            "완도      25.4         81\n",
            "울릉도     21.4         86\n",
            "울산      22.3         94\n",
            "울진      20.6         93\n",
            "원주      23.3         67\n",
            "의령군     22.9         91\n",
            "의성      21.6         91\n",
            "이천      24.2         76\n",
            "인제      19.1         86\n",
            "인천      26.1         55\n",
            "임실      23.0         81\n",
            "장수      21.8         86\n",
            "장흥      24.1         78\n",
            "전주      25.6         72\n",
            "정선군     20.6         81\n",
            "정읍      23.7         85\n",
            "제주      24.9         76\n",
            "제천      21.7         77\n",
            "진도군     24.7         82\n",
            "진주      23.6         84\n",
            "창원      23.7         77\n",
            "천안      22.4         93\n",
            "철원      20.7         97\n",
            "청송군     19.7         97\n",
            "청주      24.8         70\n",
            "추풍령     21.0         90\n",
            "춘천      22.4         70\n",
            "충주      23.2         80\n",
            "태백      16.9         96\n",
            "통영      24.0         83\n",
            "파주      21.5         83\n",
            "포항      22.7         84\n",
            "함양군     22.8         86\n",
            "합천      22.1         96\n",
            "해남      23.6         89\n",
            "홍성      24.4         79\n",
            "홍천      21.1         74\n",
            "흑산도     24.6         84\n",
            "##############################\n",
            "\n",
            "It ends here. thanks!\n",
            "\n",
            "##############################\n"
          ],
          "name": "stdout"
        }
      ]
    },
    {
      "cell_type": "code",
      "metadata": {
        "colab": {
          "base_uri": "https://localhost:8080/"
        },
        "id": "FVwqYv3CXHax",
        "outputId": "71ebf0e8-d95b-4b7d-d817-958b28a1f298"
      },
      "source": [
        "print(data)\n",
        "%cd /content/drive/MyDrive/Colab Notebooks/data/\n",
        "with open('weather.csv', 'w') as f:\n",
        "  f.write('지역, 온도, 습도\\n')\n",
        "  for i in data:\n",
        "    f.write('{0}, {1}, {2}\\n'.format(i[0], i[1], i[2]))\n"
      ],
      "execution_count": null,
      "outputs": [
        {
          "output_type": "stream",
          "text": [
            "[['강릉', '21.9', '84'], ['강진군', '25.1', '78'], ['강화', '24.4', '69'], ['거제', '23.4', '84'], ['거창', '22.0', '90'], ['경주시', '21.4', '95'], ['고산', '23.4', '95'], ['고창', '23.4', '93'], ['고창군', '23.6', '89'], ['고흥', '24.8', '73'], ['광양시', '23.8', '80'], ['광주', '23.1', '99'], ['구미', '21.8', '96'], ['군산', '24.4', '85'], ['금산', '23.5', '79'], ['김해시', '22.4', '82'], ['남원', '23.7', '78'], ['남해', '23.9', '82'], ['대관령', '16.7', '97'], ['대구', '22.5', '76'], ['대전', '24.4', '82'], ['동두천', '22.9', '78'], ['동해', '21.8', '85'], ['목포', '25.6', '77'], ['문경', '22.2', '85'], ['밀양', '22.4', '88'], ['백령도', '22.2', '78'], ['보령', '24.5', '76'], ['보성군', '24.5', '82'], ['보은', '22.0', '86'], ['봉화', '18.2', '90'], ['부산', '23.2', '79'], ['부안', '23.5', '97'], ['부여', '24.2', '78'], ['북강릉', '20.4', '89'], ['북창원', '23.5', '90'], ['북춘천', '21.1', '83'], ['산청', '21.7', '97'], ['상주', '23.0', '86'], ['서귀포', '23.4', '87'], ['서산', '22.7', '83'], ['서울', '25.7', '63'], ['성산', '25.2', '83'], ['세종', '24.0', '70'], ['속초', '20.9', '84'], ['수원', '26.1', '75'], ['순창군', '25.0', '83'], ['순천', '23.5', '79'], ['안동', '22.3', '76'], ['양산시', '23.4', '83'], ['양평', '23.5', '77'], ['여수', '25.0', '75'], ['영광군', '23.1', '95'], ['영덕', '21.2', '88'], ['영월', '20.8', '79'], ['영주', '20.9', '100'], ['영천', '21.2', '93'], ['완도', '25.4', '81'], ['울릉도', '21.4', '86'], ['울산', '22.3', '94'], ['울진', '20.6', '93'], ['원주', '23.3', '67'], ['의령군', '22.9', '91'], ['의성', '21.6', '91'], ['이천', '24.2', '76'], ['인제', '19.1', '86'], ['인천', '26.1', '55'], ['임실', '23.0', '81'], ['장수', '21.8', '86'], ['장흥', '24.1', '78'], ['전주', '25.6', '72'], ['정선군', '20.6', '81'], ['정읍', '23.7', '85'], ['제주', '24.9', '76'], ['제천', '21.7', '77'], ['진도군', '24.7', '82'], ['진주', '23.6', '84'], ['창원', '23.7', '77'], ['천안', '22.4', '93'], ['철원', '20.7', '97'], ['청송군', '19.7', '97'], ['청주', '24.8', '70'], ['추풍령', '21.0', '90'], ['춘천', '22.4', '70'], ['충주', '23.2', '80'], ['태백', '16.9', '96'], ['통영', '24.0', '83'], ['파주', '21.5', '83'], ['포항', '22.7', '84'], ['함양군', '22.8', '86'], ['합천', '22.1', '96'], ['해남', '23.6', '89'], ['홍성', '24.4', '79'], ['홍천', '21.1', '74'], ['흑산도', '24.6', '84']]\n",
            "/content/drive/MyDrive/Colab Notebooks/data\n"
          ],
          "name": "stdout"
        }
      ]
    },
    {
      "cell_type": "code",
      "metadata": {
        "colab": {
          "base_uri": "https://localhost:8080/"
        },
        "id": "X2ONaU6IYYY3",
        "outputId": "ed3adcaf-012c-40a0-81f1-d75446774f98"
      },
      "source": [
        "df = pd.read_csv('weather.csv', index_col='지역', encoding='utf-8')\n",
        "\n",
        "city_df = df.loc[['서울', '인천', '대전', '대구', '광주', '부산', '울산']]\n",
        "\n",
        "font_name = mpl.font_manager.FontProperties(fname='MALGUN.TTF').get_name()\n",
        "mpl.rc('font', family=font_name)\n",
        "\n",
        "ax = city_df.plot(kind='bar', title='날씨', figsize=(12,4), legend=True, fontsize=15)\n",
        "ax.set_xlabel('도시', fontsize=15)\n",
        "ax.set_ylabel('기온/습도', fontsize=15)\n",
        "ax.legend(['기온','습도'], fontsize=15)\n",
        "\n",
        "plt.show()"
      ],
      "execution_count": 15,
      "outputs": [
        {
          "output_type": "stream",
          "text": [
            "findfont: Font family ['Malgun Gothic'] not found. Falling back to DejaVu Sans.\n",
            "/usr/local/lib/python3.7/dist-packages/matplotlib/backends/backend_agg.py:214: RuntimeWarning: Glyph 45216 missing from current font.\n",
            "  font.set_text(s, 0.0, flags=flags)\n",
            "/usr/local/lib/python3.7/dist-packages/matplotlib/backends/backend_agg.py:214: RuntimeWarning: Glyph 50472 missing from current font.\n",
            "  font.set_text(s, 0.0, flags=flags)\n",
            "findfont: Font family ['Malgun Gothic'] not found. Falling back to DejaVu Sans.\n",
            "/usr/local/lib/python3.7/dist-packages/matplotlib/backends/backend_agg.py:214: RuntimeWarning: Glyph 49436 missing from current font.\n",
            "  font.set_text(s, 0.0, flags=flags)\n",
            "/usr/local/lib/python3.7/dist-packages/matplotlib/backends/backend_agg.py:214: RuntimeWarning: Glyph 50872 missing from current font.\n",
            "  font.set_text(s, 0.0, flags=flags)\n",
            "/usr/local/lib/python3.7/dist-packages/matplotlib/backends/backend_agg.py:214: RuntimeWarning: Glyph 51064 missing from current font.\n",
            "  font.set_text(s, 0.0, flags=flags)\n",
            "/usr/local/lib/python3.7/dist-packages/matplotlib/backends/backend_agg.py:214: RuntimeWarning: Glyph 52380 missing from current font.\n",
            "  font.set_text(s, 0.0, flags=flags)\n",
            "/usr/local/lib/python3.7/dist-packages/matplotlib/backends/backend_agg.py:214: RuntimeWarning: Glyph 45824 missing from current font.\n",
            "  font.set_text(s, 0.0, flags=flags)\n",
            "/usr/local/lib/python3.7/dist-packages/matplotlib/backends/backend_agg.py:214: RuntimeWarning: Glyph 51204 missing from current font.\n",
            "  font.set_text(s, 0.0, flags=flags)\n",
            "/usr/local/lib/python3.7/dist-packages/matplotlib/backends/backend_agg.py:214: RuntimeWarning: Glyph 44396 missing from current font.\n",
            "  font.set_text(s, 0.0, flags=flags)\n",
            "/usr/local/lib/python3.7/dist-packages/matplotlib/backends/backend_agg.py:214: RuntimeWarning: Glyph 44305 missing from current font.\n",
            "  font.set_text(s, 0.0, flags=flags)\n",
            "/usr/local/lib/python3.7/dist-packages/matplotlib/backends/backend_agg.py:214: RuntimeWarning: Glyph 51452 missing from current font.\n",
            "  font.set_text(s, 0.0, flags=flags)\n",
            "/usr/local/lib/python3.7/dist-packages/matplotlib/backends/backend_agg.py:214: RuntimeWarning: Glyph 48512 missing from current font.\n",
            "  font.set_text(s, 0.0, flags=flags)\n",
            "/usr/local/lib/python3.7/dist-packages/matplotlib/backends/backend_agg.py:214: RuntimeWarning: Glyph 49328 missing from current font.\n",
            "  font.set_text(s, 0.0, flags=flags)\n",
            "/usr/local/lib/python3.7/dist-packages/matplotlib/backends/backend_agg.py:183: RuntimeWarning: Glyph 49436 missing from current font.\n",
            "  font.set_text(s, 0, flags=flags)\n",
            "/usr/local/lib/python3.7/dist-packages/matplotlib/backends/backend_agg.py:183: RuntimeWarning: Glyph 50872 missing from current font.\n",
            "  font.set_text(s, 0, flags=flags)\n",
            "/usr/local/lib/python3.7/dist-packages/matplotlib/backends/backend_agg.py:183: RuntimeWarning: Glyph 51064 missing from current font.\n",
            "  font.set_text(s, 0, flags=flags)\n",
            "/usr/local/lib/python3.7/dist-packages/matplotlib/backends/backend_agg.py:183: RuntimeWarning: Glyph 52380 missing from current font.\n",
            "  font.set_text(s, 0, flags=flags)\n",
            "/usr/local/lib/python3.7/dist-packages/matplotlib/backends/backend_agg.py:183: RuntimeWarning: Glyph 45824 missing from current font.\n",
            "  font.set_text(s, 0, flags=flags)\n",
            "/usr/local/lib/python3.7/dist-packages/matplotlib/backends/backend_agg.py:183: RuntimeWarning: Glyph 51204 missing from current font.\n",
            "  font.set_text(s, 0, flags=flags)\n",
            "/usr/local/lib/python3.7/dist-packages/matplotlib/backends/backend_agg.py:183: RuntimeWarning: Glyph 44396 missing from current font.\n",
            "  font.set_text(s, 0, flags=flags)\n",
            "/usr/local/lib/python3.7/dist-packages/matplotlib/backends/backend_agg.py:183: RuntimeWarning: Glyph 44305 missing from current font.\n",
            "  font.set_text(s, 0, flags=flags)\n",
            "/usr/local/lib/python3.7/dist-packages/matplotlib/backends/backend_agg.py:183: RuntimeWarning: Glyph 51452 missing from current font.\n",
            "  font.set_text(s, 0, flags=flags)\n",
            "/usr/local/lib/python3.7/dist-packages/matplotlib/backends/backend_agg.py:183: RuntimeWarning: Glyph 48512 missing from current font.\n",
            "  font.set_text(s, 0, flags=flags)\n",
            "/usr/local/lib/python3.7/dist-packages/matplotlib/backends/backend_agg.py:183: RuntimeWarning: Glyph 49328 missing from current font.\n",
            "  font.set_text(s, 0, flags=flags)\n",
            "/usr/local/lib/python3.7/dist-packages/matplotlib/backends/backend_agg.py:214: RuntimeWarning: Glyph 46020 missing from current font.\n",
            "  font.set_text(s, 0.0, flags=flags)\n",
            "/usr/local/lib/python3.7/dist-packages/matplotlib/backends/backend_agg.py:214: RuntimeWarning: Glyph 49884 missing from current font.\n",
            "  font.set_text(s, 0.0, flags=flags)\n",
            "/usr/local/lib/python3.7/dist-packages/matplotlib/backends/backend_agg.py:183: RuntimeWarning: Glyph 46020 missing from current font.\n",
            "  font.set_text(s, 0, flags=flags)\n",
            "/usr/local/lib/python3.7/dist-packages/matplotlib/backends/backend_agg.py:183: RuntimeWarning: Glyph 49884 missing from current font.\n",
            "  font.set_text(s, 0, flags=flags)\n",
            "/usr/local/lib/python3.7/dist-packages/matplotlib/backends/backend_agg.py:214: RuntimeWarning: Glyph 44592 missing from current font.\n",
            "  font.set_text(s, 0.0, flags=flags)\n",
            "/usr/local/lib/python3.7/dist-packages/matplotlib/backends/backend_agg.py:214: RuntimeWarning: Glyph 50728 missing from current font.\n",
            "  font.set_text(s, 0.0, flags=flags)\n",
            "/usr/local/lib/python3.7/dist-packages/matplotlib/backends/backend_agg.py:214: RuntimeWarning: Glyph 49845 missing from current font.\n",
            "  font.set_text(s, 0.0, flags=flags)\n",
            "/usr/local/lib/python3.7/dist-packages/matplotlib/backends/backend_agg.py:183: RuntimeWarning: Glyph 44592 missing from current font.\n",
            "  font.set_text(s, 0, flags=flags)\n",
            "/usr/local/lib/python3.7/dist-packages/matplotlib/backends/backend_agg.py:183: RuntimeWarning: Glyph 50728 missing from current font.\n",
            "  font.set_text(s, 0, flags=flags)\n",
            "/usr/local/lib/python3.7/dist-packages/matplotlib/backends/backend_agg.py:183: RuntimeWarning: Glyph 49845 missing from current font.\n",
            "  font.set_text(s, 0, flags=flags)\n",
            "/usr/local/lib/python3.7/dist-packages/matplotlib/backends/backend_agg.py:183: RuntimeWarning: Glyph 45216 missing from current font.\n",
            "  font.set_text(s, 0, flags=flags)\n",
            "/usr/local/lib/python3.7/dist-packages/matplotlib/backends/backend_agg.py:183: RuntimeWarning: Glyph 50472 missing from current font.\n",
            "  font.set_text(s, 0, flags=flags)\n"
          ],
          "name": "stderr"
        }
      ]
    },
    {
      "cell_type": "code",
      "metadata": {
        "id": "VPjHAtNqYcwo"
      },
      "source": [
        ""
      ],
      "execution_count": null,
      "outputs": []
    }
  ]
}