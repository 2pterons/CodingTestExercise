{
  "nbformat": 4,
  "nbformat_minor": 0,
  "metadata": {
    "colab": {
      "name": "백준_10773번_제로 .ipynb",
      "provenance": [],
      "collapsed_sections": [],
      "authorship_tag": "ABX9TyOtmKUuOvz1Y2pJz3bYKJjb",
      "include_colab_link": true
    },
    "kernelspec": {
      "name": "python3",
      "display_name": "Python 3"
    },
    "language_info": {
      "name": "python"
    }
  },
  "cells": [
    {
      "cell_type": "markdown",
      "metadata": {
        "id": "view-in-github",
        "colab_type": "text"
      },
      "source": [
        "<a href=\"https://colab.research.google.com/github/pterons/CodingTestExercise/blob/main/%EB%B0%B1%EC%A4%80_10773%EB%B2%88_%EC%A0%9C%EB%A1%9C_.ipynb\" target=\"_parent\"><img src=\"https://colab.research.google.com/assets/colab-badge.svg\" alt=\"Open In Colab\"/></a>"
      ]
    },
    {
      "cell_type": "markdown",
      "metadata": {
        "id": "XT0nvmaQQVwv"
      },
      "source": [
        "# 문제\n",
        "나코더 기장 재민이는 동아리 회식을 준비하기 위해서 장부를 관리하는 중이다.\n",
        "\n",
        "재현이는 재민이를 도와서 돈을 관리하는 중인데, 애석하게도 항상 정신없는 재현이는 돈을 실수로 잘못 부르는 사고를 치기 일쑤였다.\n",
        "\n",
        "재현이는 잘못된 수를 부를 때마다 0을 외쳐서, 가장 최근에 재민이가 쓴 수를 지우게 시킨다.\n",
        "\n",
        "재민이는 이렇게 모든 수를 받아 적은 후 그 수의 합을 알고 싶어 한다. 재민이를 도와주자!\n",
        "\n",
        "#입력\n",
        "첫 번째 줄에 정수 K가 주어진다. (1 ≤ K ≤ 100,000)\n",
        "\n",
        "이후 K개의 줄에 정수가 1개씩 주어진다. 정수는 0에서 1,000,000 사이의 값을 가지며, 정수가 \"0\" 일 경우에는 가장 최근에 쓴 수를 지우고, 아닐 경우 해당 수를 쓴다.\n",
        "\n",
        "정수가 \"0\"일 경우에 지울 수 있는 수가 있음을 보장할 수 있다.\n",
        "\n",
        "#출력\n",
        "재민이가 최종적으로 적어 낸 수의 합을 출력한다. 최종적으로 적어낸 수의 합은 231-1보다 작거나 같은 정수이다."
      ]
    },
    {
      "cell_type": "markdown",
      "metadata": {
        "id": "A-1fjRVtQgeC"
      },
      "source": [
        "## 예제 입력 1\n",
        "\\>>> <br/>4<br/>3<br/>0<br/>4<br/>0\n",
        "\n",
        "## 예제 출력 1\n",
        "\\>>> 0\n",
        "<hr/><br/><br/>\n",
        "\n",
        "## 예제 입력 2\n",
        "\\>>><br/>\n",
        "10<br/>\n",
        "1<br/>\n",
        "3<br/>\n",
        "5<br/>\n",
        "4<br/>\n",
        "0<br/>\n",
        "0<br/>\n",
        "7<br/>\n",
        "0<br/>\n",
        "0<br/>\n",
        "6<br/>\n",
        "\n",
        "## 예제 출력 2\n",
        "\\>>> 7\n",
        "\n"
      ]
    },
    {
      "cell_type": "code",
      "metadata": {
        "id": "eyiLmVe1wmEO",
        "colab": {
          "base_uri": "https://localhost:8080/"
        },
        "outputId": "a2dd17a2-0f59-4319-953e-99fe85b4fcb8"
      },
      "source": [
        "k = []\n",
        "start = int(input())\n",
        "for x in range(0, start):\n",
        "  insert = int(input())\n",
        "  if insert == 0:\n",
        "    k.pop()\n",
        "  else:\n",
        "    k.append(insert)\n",
        "print(\"결과 출력:\", sum(k))"
      ],
      "execution_count": 3,
      "outputs": [
        {
          "output_type": "stream",
          "text": [
            "10\n",
            "1\n",
            "3\n",
            "5\n",
            "4\n",
            "0\n",
            "0\n",
            "7\n",
            "0\n",
            "0\n",
            "6\n",
            "결과 출력: 7\n"
          ],
          "name": "stdout"
        }
      ]
    },
    {
      "cell_type": "code",
      "metadata": {
        "id": "pFmB0fiYSc2f"
      },
      "source": [
        "0"
      ],
      "execution_count": null,
      "outputs": []
    }
  ]
}